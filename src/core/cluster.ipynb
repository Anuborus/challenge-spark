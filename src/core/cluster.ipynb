{
 "cells": [
  {
   "cell_type": "code",
   "execution_count": 1,
   "metadata": {},
   "outputs": [
    {
     "data": {
      "text/html": [
       "\n",
       "            <div>\n",
       "                <p><b>SparkSession - in-memory</b></p>\n",
       "                \n",
       "        <div>\n",
       "            <p><b>SparkContext</b></p>\n",
       "\n",
       "            <p><a href=\"http://host.docker.internal:4040\">Spark UI</a></p>\n",
       "\n",
       "            <dl>\n",
       "              <dt>Version</dt>\n",
       "                <dd><code>v3.3.2</code></dd>\n",
       "              <dt>Master</dt>\n",
       "                <dd><code>local[4]</code></dd>\n",
       "              <dt>AppName</dt>\n",
       "                <dd><code>Carga Coronavirus</code></dd>\n",
       "            </dl>\n",
       "        </div>\n",
       "        \n",
       "            </div>\n",
       "        "
      ],
      "text/plain": [
       "<pyspark.sql.session.SparkSession at 0x23a7916c730>"
      ]
     },
     "execution_count": 1,
     "metadata": {},
     "output_type": "execute_result"
    }
   ],
   "source": [
    "from pyspark.sql import SparkSession\n",
    "def init_cluster()-> SparkSession:\n",
    "    spark = SparkSession.builder \\\n",
    "        .appName(\"Carga Coronavirus\") \\\n",
    "        .master(\"local[4]\") \\\n",
    "        .config(\"spark.executor.memory\", \"8g\") \\\n",
    "        .config(\"spark.sql.execution.arrow.enabled\", \"true\") \\\n",
    "        .getOrCreate()\n",
    "    return spark"
   ]
  },
  {
   "cell_type": "code",
   "execution_count": 2,
   "metadata": {},
   "outputs": [
    {
     "data": {
      "text/plain": [
       "['..\\\\data\\\\country_wise_latest.csv',\n",
       " '..\\\\data\\\\covid_19_clean_complete.csv',\n",
       " '..\\\\data\\\\day_wise.csv',\n",
       " '..\\\\data\\\\full_grouped.csv',\n",
       " '..\\\\data\\\\usa_county_wise.csv',\n",
       " '..\\\\data\\\\worldometer_data.csv']"
      ]
     },
     "execution_count": 2,
     "metadata": {},
     "output_type": "execute_result"
    }
   ],
   "source": [
    "import glob\n",
    "archivos = glob.glob('..\\data\\*.csv')\n",
    "archivos"
   ]
  },
  {
   "cell_type": "code",
   "execution_count": 31,
   "metadata": {},
   "outputs": [
    {
     "data": {
      "text/plain": [
       "{'country_wise_latest.csv': DataFrame[Country/Region: string, Confirmed: int, Deaths: int, Recovered: int, Active: int, New cases: int, New deaths: int, New recovered: int, Deaths / 100 Cases: double, Recovered / 100 Cases: double, Deaths / 100 Recovered: string, Confirmed last week: int, 1 week change: int, 1 week % increase: double, WHO Region: string],\n",
       " 'covid_19_clean_complete.csv': DataFrame[Province/State: string, Country/Region: string, Lat: double, Long: double, Date: timestamp, Confirmed: int, Deaths: int, Recovered: int, Active: int, WHO Region: string],\n",
       " 'day_wise.csv': DataFrame[Date: timestamp, Confirmed: int, Deaths: int, Recovered: int, Active: int, New cases: int, New deaths: int, New recovered: int, Deaths / 100 Cases: double, Recovered / 100 Cases: double, Deaths / 100 Recovered: double, No. of countries: int],\n",
       " 'full_grouped.csv': DataFrame[Date: timestamp, Country/Region: string, Confirmed: int, Deaths: int, Recovered: int, Active: int, New cases: int, New deaths: int, New recovered: int, WHO Region: string],\n",
       " 'usa_county_wise.csv': DataFrame[UID: int, iso2: string, iso3: string, code3: int, FIPS: double, Admin2: string, Province_State: string, Country_Region: string, Lat: double, Long_: double, Combined_Key: string, Date: string, Confirmed: int, Deaths: int],\n",
       " 'worldometer_data.csv': DataFrame[Country/Region: string, Continent: string, Population: int, TotalCases: int, NewCases: int, TotalDeaths: int, NewDeaths: int, TotalRecovered: int, NewRecovered: int, ActiveCases: int, Serious,Critical: int, Tot Cases/1M pop: int, Deaths/1M pop: double, TotalTests: int, Tests/1M pop: int, WHO Region: string]}"
      ]
     },
     "execution_count": 31,
     "metadata": {},
     "output_type": "execute_result"
    }
   ],
   "source": [
    "from datetime import date\n",
    "data = {}\n",
    "for archivo in archivos:\n",
    "    df = spark.read.options(header=True, inferSchema=True).csv(archivo)\n",
    "    data[archivo.split('\\\\')[-1]] = df\n",
    "data"
   ]
  },
  {
   "cell_type": "code",
   "execution_count": 33,
   "metadata": {},
   "outputs": [
    {
     "name": "stdout",
     "output_type": "stream",
     "text": [
      "+--------------+---------+------+---------+------+---------+----------+-------------+------------------+---------------------+----------------------+-------------------+-------------+-----------------+---------------+\n",
      "|Country/Region|Confirmed|Deaths|Recovered|Active|New cases|New deaths|New recovered|Deaths / 100 Cases|Recovered / 100 Cases|Deaths / 100 Recovered|Confirmed last week|1 week change|1 week % increase|     WHO Region|\n",
      "+--------------+---------+------+---------+------+---------+----------+-------------+------------------+---------------------+----------------------+-------------------+-------------+-----------------+---------------+\n",
      "|      Dominica|       18|     0|       18|     0|        0|         0|            0|               0.0|                100.0|                   0.0|                 18|            0|              0.0|       Americas|\n",
      "|     Greenland|       14|     0|       13|     1|        1|         0|            0|               0.0|                92.86|                   0.0|                 13|            1|             7.69|         Europe|\n",
      "|       Eritrea|      265|     0|      191|    74|        2|         0|            2|               0.0|                72.08|                   0.0|                251|           14|             5.58|         Africa|\n",
      "|        Bhutan|       99|     0|       86|    13|        4|         0|            1|               0.0|                86.87|                   0.0|                 90|            9|             10.0|South-East Asia|\n",
      "+--------------+---------+------+---------+------+---------+----------+-------------+------------------+---------------------+----------------------+-------------------+-------------+-----------------+---------------+\n",
      "only showing top 4 rows\n",
      "\n"
     ]
    }
   ],
   "source": [
    "from pyspark.sql.functions import col\n",
    "data['country_wise_latest.csv'].replace({'inf':'0.0'},'Deaths / 100 Recovered')\n",
    "data['country_wise_latest.csv'].withColumn(\"Deaths / 100 Recovered\",col(\"Deaths / 100 Recovered\").cast(\"double\"))\n",
    "data['country_wise_latest.csv'].sort('Deaths / 100 Recovered',ascending=True).show(4)"
   ]
  },
  {
   "cell_type": "code",
   "execution_count": 72,
   "metadata": {},
   "outputs": [
    {
     "name": "stdout",
     "output_type": "stream",
     "text": [
      "[('Country/Region', 'string'), ('Confirmed', 'int'), ('Deaths', 'int'), ('Recovered', 'int'), ('Active', 'int'), ('New cases', 'int'), ('New deaths', 'int'), ('New recovered', 'int'), ('Deaths / 100 Cases', 'double'), ('Recovered / 100 Cases', 'double'), ('Deaths / 100 Recovered', 'string'), ('Confirmed last week', 'int'), ('1 week change', 'int'), ('1 week % increase', 'double'), ('WHO Region', 'string')]\n",
      "+--------------+---------+------+---------+------+---------+----------+-------------+------------------+---------------------+----------------------+-------------------+-------------+-----------------+--------------------+\n",
      "|Country/Region|Confirmed|Deaths|Recovered|Active|New cases|New deaths|New recovered|Deaths / 100 Cases|Recovered / 100 Cases|Deaths / 100 Recovered|Confirmed last week|1 week change|1 week % increase|          WHO Region|\n",
      "+--------------+---------+------+---------+------+---------+----------+-------------+------------------+---------------------+----------------------+-------------------+-------------+-----------------+--------------------+\n",
      "|   Afghanistan|    36263|  1269|    25198|  9796|      106|        10|           18|               3.5|                69.49|                  5.04|              35526|          737|             2.07|Eastern Mediterra...|\n",
      "|       Albania|     4880|   144|     2745|  1991|      117|         6|           63|              2.95|                56.25|                  5.25|               4171|          709|             17.0|              Europe|\n",
      "|       Algeria|    27973|  1163|    18837|  7973|      616|         8|          749|              4.16|                67.34|                  6.17|              23691|         4282|            18.07|              Africa|\n",
      "|       Andorra|      907|    52|      803|    52|       10|         0|            0|              5.73|                88.53|                  6.48|                884|           23|              2.6|              Europe|\n",
      "|        Angola|      950|    41|      242|   667|       18|         1|            0|              4.32|                25.47|                 16.94|                749|          201|            26.84|              Africa|\n",
      "+--------------+---------+------+---------+------+---------+----------+-------------+------------------+---------------------+----------------------+-------------------+-------------+-----------------+--------------------+\n",
      "only showing top 5 rows\n",
      "\n",
      "None\n",
      "[('Province/State', 'string'), ('Country/Region', 'string'), ('Lat', 'double'), ('Long', 'double'), ('Date', 'timestamp'), ('Confirmed', 'int'), ('Deaths', 'int'), ('Recovered', 'int'), ('Active', 'int'), ('WHO Region', 'string')]\n",
      "+--------------+--------------+--------+---------+-------------------+---------+------+---------+------+--------------------+\n",
      "|Province/State|Country/Region|     Lat|     Long|               Date|Confirmed|Deaths|Recovered|Active|          WHO Region|\n",
      "+--------------+--------------+--------+---------+-------------------+---------+------+---------+------+--------------------+\n",
      "|          null|   Afghanistan|33.93911|67.709953|2020-01-22 00:00:00|        0|     0|        0|     0|Eastern Mediterra...|\n",
      "|          null|       Albania| 41.1533|  20.1683|2020-01-22 00:00:00|        0|     0|        0|     0|              Europe|\n",
      "|          null|       Algeria| 28.0339|   1.6596|2020-01-22 00:00:00|        0|     0|        0|     0|              Africa|\n",
      "|          null|       Andorra| 42.5063|   1.5218|2020-01-22 00:00:00|        0|     0|        0|     0|              Europe|\n",
      "|          null|        Angola|-11.2027|  17.8739|2020-01-22 00:00:00|        0|     0|        0|     0|              Africa|\n",
      "+--------------+--------------+--------+---------+-------------------+---------+------+---------+------+--------------------+\n",
      "only showing top 5 rows\n",
      "\n",
      "None\n",
      "[('Date', 'timestamp'), ('Confirmed', 'int'), ('Deaths', 'int'), ('Recovered', 'int'), ('Active', 'int'), ('New cases', 'int'), ('New deaths', 'int'), ('New recovered', 'int'), ('Deaths / 100 Cases', 'double'), ('Recovered / 100 Cases', 'double'), ('Deaths / 100 Recovered', 'double'), ('No. of countries', 'int')]\n",
      "+-------------------+---------+------+---------+------+---------+----------+-------------+------------------+---------------------+----------------------+----------------+\n",
      "|               Date|Confirmed|Deaths|Recovered|Active|New cases|New deaths|New recovered|Deaths / 100 Cases|Recovered / 100 Cases|Deaths / 100 Recovered|No. of countries|\n",
      "+-------------------+---------+------+---------+------+---------+----------+-------------+------------------+---------------------+----------------------+----------------+\n",
      "|2020-01-22 00:00:00|      555|    17|       28|   510|        0|         0|            0|              3.06|                 5.05|                 60.71|               6|\n",
      "|2020-01-23 00:00:00|      654|    18|       30|   606|       99|         1|            2|              2.75|                 4.59|                  60.0|               8|\n",
      "|2020-01-24 00:00:00|      941|    26|       36|   879|      287|         8|            6|              2.76|                 3.83|                 72.22|               9|\n",
      "|2020-01-25 00:00:00|     1434|    42|       39|  1353|      493|        16|            3|              2.93|                 2.72|                107.69|              11|\n",
      "|2020-01-26 00:00:00|     2118|    56|       52|  2010|      684|        14|           13|              2.64|                 2.46|                107.69|              13|\n",
      "+-------------------+---------+------+---------+------+---------+----------+-------------+------------------+---------------------+----------------------+----------------+\n",
      "only showing top 5 rows\n",
      "\n",
      "None\n",
      "[('Date', 'timestamp'), ('Country/Region', 'string'), ('Confirmed', 'int'), ('Deaths', 'int'), ('Recovered', 'int'), ('Active', 'int'), ('New cases', 'int'), ('New deaths', 'int'), ('New recovered', 'int'), ('WHO Region', 'string')]\n",
      "+-------------------+--------------+---------+------+---------+------+---------+----------+-------------+--------------------+\n",
      "|               Date|Country/Region|Confirmed|Deaths|Recovered|Active|New cases|New deaths|New recovered|          WHO Region|\n",
      "+-------------------+--------------+---------+------+---------+------+---------+----------+-------------+--------------------+\n",
      "|2020-01-22 00:00:00|   Afghanistan|        0|     0|        0|     0|        0|         0|            0|Eastern Mediterra...|\n",
      "|2020-01-22 00:00:00|       Albania|        0|     0|        0|     0|        0|         0|            0|              Europe|\n",
      "|2020-01-22 00:00:00|       Algeria|        0|     0|        0|     0|        0|         0|            0|              Africa|\n",
      "|2020-01-22 00:00:00|       Andorra|        0|     0|        0|     0|        0|         0|            0|              Europe|\n",
      "|2020-01-22 00:00:00|        Angola|        0|     0|        0|     0|        0|         0|            0|              Africa|\n",
      "+-------------------+--------------+---------+------+---------+------+---------+----------+-------------+--------------------+\n",
      "only showing top 5 rows\n",
      "\n",
      "None\n",
      "[('UID', 'int'), ('iso2', 'string'), ('iso3', 'string'), ('code3', 'int'), ('FIPS', 'double'), ('Admin2', 'string'), ('Province_State', 'string'), ('Country_Region', 'string'), ('Lat', 'double'), ('Long_', 'double'), ('Combined_Key', 'string'), ('Date', 'string'), ('Confirmed', 'int'), ('Deaths', 'int')]\n",
      "+--------+----+----+-----+-------+--------+--------------------+--------------+-------------------+------------------+--------------------+-------+---------+------+\n",
      "|     UID|iso2|iso3|code3|   FIPS|  Admin2|      Province_State|Country_Region|                Lat|             Long_|        Combined_Key|   Date|Confirmed|Deaths|\n",
      "+--------+----+----+-----+-------+--------+--------------------+--------------+-------------------+------------------+--------------------+-------+---------+------+\n",
      "|      16|  AS| ASM|   16|   60.0|    null|      American Samoa|            US|-14.270999999999999|          -170.132|  American Samoa, US|1/22/20|        0|     0|\n",
      "|     316|  GU| GUM|  316|   66.0|    null|                Guam|            US|            13.4443|          144.7937|            Guam, US|1/22/20|        0|     0|\n",
      "|     580|  MP| MNP|  580|   69.0|    null|Northern Mariana ...|            US|            15.0979|          145.6739|Northern Mariana ...|1/22/20|        0|     0|\n",
      "|63072001|  PR| PRI|  630|72001.0|Adjuntas|         Puerto Rico|            US| 18.180117000000006|        -66.754367|Adjuntas, Puerto ...|1/22/20|        0|     0|\n",
      "|63072003|  PR| PRI|  630|72003.0|  Aguada|         Puerto Rico|            US|          18.360255|-67.17513100000001|Aguada, Puerto Ri...|1/22/20|        0|     0|\n",
      "+--------+----+----+-----+-------+--------+--------------------+--------------+-------------------+------------------+--------------------+-------+---------+------+\n",
      "only showing top 5 rows\n",
      "\n",
      "None\n",
      "[('Country/Region', 'string'), ('Continent', 'string'), ('Population', 'int'), ('TotalCases', 'int'), ('NewCases', 'int'), ('TotalDeaths', 'int'), ('NewDeaths', 'int'), ('TotalRecovered', 'int'), ('NewRecovered', 'int'), ('ActiveCases', 'int'), ('Serious,Critical', 'int'), ('Tot Cases/1M pop', 'int'), ('Deaths/1M pop', 'double'), ('TotalTests', 'int'), ('Tests/1M pop', 'int'), ('WHO Region', 'string')]\n",
      "+--------------+-------------+----------+----------+--------+-----------+---------+--------------+------------+-----------+----------------+----------------+-------------+----------+------------+--------------+\n",
      "|Country/Region|    Continent|Population|TotalCases|NewCases|TotalDeaths|NewDeaths|TotalRecovered|NewRecovered|ActiveCases|Serious,Critical|Tot Cases/1M pop|Deaths/1M pop|TotalTests|Tests/1M pop|    WHO Region|\n",
      "+--------------+-------------+----------+----------+--------+-----------+---------+--------------+------------+-----------+----------------+----------------+-------------+----------+------------+--------------+\n",
      "|           USA|North America| 331198130|   5032179|    null|     162804|     null|       2576668|        null|    2292707|           18296|           15194|        492.0|  63139605|      190640|      Americas|\n",
      "|        Brazil|South America| 212710692|   2917562|    null|      98644|     null|       2047660|        null|     771258|            8318|           13716|        464.0|  13206188|       62085|      Americas|\n",
      "|         India|         Asia|1381344997|   2025409|    null|      41638|     null|       1377384|        null|     606387|            8944|            1466|         30.0|  22149351|       16035|South-EastAsia|\n",
      "|        Russia|       Europe| 145940924|    871894|    null|      14606|     null|        676357|        null|     180931|            2300|            5974|        100.0|  29716907|      203623|        Europe|\n",
      "|  South Africa|       Africa|  59381566|    538184|    null|       9604|     null|        387316|        null|     141264|             539|            9063|        162.0|   3149807|       53044|        Africa|\n",
      "+--------------+-------------+----------+----------+--------+-----------+---------+--------------+------------+-----------+----------------+----------------+-------------+----------+------------+--------------+\n",
      "only showing top 5 rows\n",
      "\n",
      "None\n"
     ]
    }
   ],
   "source": [
    "for i in data:\n",
    "    print(data[i].dtypes)\n",
    "    print(data[i].show(5))\n"
   ]
  }
 ],
 "metadata": {
  "kernelspec": {
   "display_name": "Python 3.10.7 64-bit",
   "language": "python",
   "name": "python3"
  },
  "language_info": {
   "codemirror_mode": {
    "name": "ipython",
    "version": 3
   },
   "file_extension": ".py",
   "mimetype": "text/x-python",
   "name": "python",
   "nbconvert_exporter": "python",
   "pygments_lexer": "ipython3",
   "version": "3.10.7"
  },
  "orig_nbformat": 4,
  "vscode": {
   "interpreter": {
    "hash": "346fa6a7b3cb8edd686a18dd657017363a0e3226b63de00c85c58889ee62fdc5"
   }
  }
 },
 "nbformat": 4,
 "nbformat_minor": 2
}
