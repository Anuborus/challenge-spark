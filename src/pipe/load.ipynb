{
 "cells": [
  {
   "attachments": {},
   "cell_type": "markdown",
   "metadata": {},
   "source": [
    "Se importan librerias necesarias"
   ]
  },
  {
   "cell_type": "code",
   "execution_count": 2,
   "metadata": {},
   "outputs": [],
   "source": [
    "from ipynb.fs.full.model.definitions import normalize\n",
    "from datetime import date\n",
    "from dataclasses import dataclass,field\n",
    "from typing import Dict,Any,List\n",
    "import json\n",
    "from glob import glob\n",
    "from pyspark.sql import SparkSession"
   ]
  },
  {
   "cell_type": "code",
   "execution_count": null,
   "metadata": {},
   "outputs": [],
   "source": [
    "def find_offset() -> dict:\n",
    "    with open('settings.json','r') as settingsfile:\n",
    "        settings = json.load(settingsfile)\n",
    "        return settings"
   ]
  },
  {
   "cell_type": "code",
   "execution_count": null,
   "metadata": {},
   "outputs": [],
   "source": [
    "def set_offset(settings:dict) -> None:\n",
    "    with open('settings.json', 'w') as f:\n",
    "        json.dump(settings, f)"
   ]
  },
  {
   "cell_type": "code",
   "execution_count": null,
   "metadata": {},
   "outputs": [],
   "source": [
    "@dataclass\n",
    "class dataloader:\n",
    "    files:List[str] = field(default_factory=list)\n",
    "    dataframes:dict = field(default_factory=dict)\n",
    "    def files_finder(self,path:str) -> None:\n",
    "        self.files = glob(path)\n",
    "    def load_dataframe(self,sparksession:SparkSession) -> None:\n",
    "        for file in self.files:\n",
    "            self.dataframes[file.split('\\\\')[-1]] = sparksession.read\\\n",
    "                                                    .options(header=True, inferSchema=True).csv(file)\n",
    "    def normalize_dataframes(self) -> None:\n",
    "        \n",
    "\n"
   ]
  }
 ],
 "metadata": {
  "kernelspec": {
   "display_name": "spark",
   "language": "python",
   "name": "python3"
  },
  "language_info": {
   "codemirror_mode": {
    "name": "ipython",
    "version": 3
   },
   "file_extension": ".py",
   "mimetype": "text/x-python",
   "name": "python",
   "nbconvert_exporter": "python",
   "pygments_lexer": "ipython3",
   "version": "3.10.7"
  },
  "orig_nbformat": 4
 },
 "nbformat": 4,
 "nbformat_minor": 2
}
