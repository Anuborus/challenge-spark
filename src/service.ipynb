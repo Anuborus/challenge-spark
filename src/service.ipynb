{
 "cells": [
  {
   "cell_type": "code",
   "execution_count": 13,
   "metadata": {},
   "outputs": [
    {
     "name": "stdout",
     "output_type": "stream",
     "text": [
      "{'offset': {'fecha': '22-12-2022'}}\n"
     ]
    }
   ],
   "source": [
    "from ipynb.fs.full.model.definitions import keydef\n",
    "import json\n",
    "\n",
    "with open('settings.json','r') as settingsfile:\n",
    "    settings = json.load(settingsfile)\n",
    "    print(settings)\n",
    "\n"
   ]
  },
  {
   "cell_type": "code",
   "execution_count": 12,
   "metadata": {},
   "outputs": [],
   "source": [
    "settings['offset']['fecha'] = '22-12-2022'\n",
    "with open('settings.json', 'w') as f:\n",
    "    json.dump(settings, f)"
   ]
  }
 ],
 "metadata": {
  "kernelspec": {
   "display_name": "spark",
   "language": "python",
   "name": "python3"
  },
  "language_info": {
   "codemirror_mode": {
    "name": "ipython",
    "version": 3
   },
   "file_extension": ".py",
   "mimetype": "text/x-python",
   "name": "python",
   "nbconvert_exporter": "python",
   "pygments_lexer": "ipython3",
   "version": "3.10.7"
  },
  "orig_nbformat": 4
 },
 "nbformat": 4,
 "nbformat_minor": 2
}
